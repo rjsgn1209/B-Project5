{
 "cells": [
  {
   "cell_type": "code",
   "execution_count": 3,
   "id": "a8a6abaa",
   "metadata": {},
   "outputs": [],
   "source": [
    "import pandas as pd\n",
    "import numpy as np\n",
    "import matplotlib.pyplot as plt\n",
    "import seaborn as sns\n",
    "import pickle"
   ]
  },
  {
   "cell_type": "code",
   "execution_count": 4,
   "id": "5972a26b",
   "metadata": {},
   "outputs": [],
   "source": [
    "from tensorflow.keras import models"
   ]
  },
  {
   "cell_type": "code",
   "execution_count": 7,
   "id": "27df000d",
   "metadata": {},
   "outputs": [],
   "source": [
    "df = pd.read_csv('data_files/딥러닝 데이터+.csv', index_col='날짜')"
   ]
  },
  {
   "cell_type": "code",
   "execution_count": 8,
   "id": "a8046337",
   "metadata": {},
   "outputs": [
    {
     "data": {
      "text/html": [
       "<div>\n",
       "<style scoped>\n",
       "    .dataframe tbody tr th:only-of-type {\n",
       "        vertical-align: middle;\n",
       "    }\n",
       "\n",
       "    .dataframe tbody tr th {\n",
       "        vertical-align: top;\n",
       "    }\n",
       "\n",
       "    .dataframe thead th {\n",
       "        text-align: right;\n",
       "    }\n",
       "</style>\n",
       "<table border=\"1\" class=\"dataframe\">\n",
       "  <thead>\n",
       "    <tr style=\"text-align: right;\">\n",
       "      <th></th>\n",
       "      <th>S&amp;P500</th>\n",
       "      <th>미국채10년</th>\n",
       "      <th>GSCI</th>\n",
       "      <th>기준금리</th>\n",
       "      <th>last_gdp</th>\n",
       "      <th>last_unem</th>\n",
       "      <th>last_infl</th>\n",
       "      <th>CPI</th>\n",
       "      <th>달러인덱스</th>\n",
       "      <th>비율</th>\n",
       "    </tr>\n",
       "    <tr>\n",
       "      <th>날짜</th>\n",
       "      <th></th>\n",
       "      <th></th>\n",
       "      <th></th>\n",
       "      <th></th>\n",
       "      <th></th>\n",
       "      <th></th>\n",
       "      <th></th>\n",
       "      <th></th>\n",
       "      <th></th>\n",
       "      <th></th>\n",
       "    </tr>\n",
       "  </thead>\n",
       "  <tbody>\n",
       "    <tr>\n",
       "      <th>2021-05-04</th>\n",
       "      <td>418.80</td>\n",
       "      <td>0.520</td>\n",
       "      <td>342.7210</td>\n",
       "      <td>-0.25</td>\n",
       "      <td>-3.4</td>\n",
       "      <td>6.7</td>\n",
       "      <td>1.4</td>\n",
       "      <td>5.344929</td>\n",
       "      <td>-0.262</td>\n",
       "      <td>(Decimal('0.3'), Decimal('0.1'), Decimal('0.5'...</td>\n",
       "    </tr>\n",
       "    <tr>\n",
       "      <th>2021-05-03</th>\n",
       "      <td>466.93</td>\n",
       "      <td>0.555</td>\n",
       "      <td>354.8970</td>\n",
       "      <td>-0.25</td>\n",
       "      <td>-3.4</td>\n",
       "      <td>6.7</td>\n",
       "      <td>1.4</td>\n",
       "      <td>5.190600</td>\n",
       "      <td>0.295</td>\n",
       "      <td>(Decimal('0.1'), Decimal('0.1'), Decimal('0.5'...</td>\n",
       "    </tr>\n",
       "    <tr>\n",
       "      <th>2021-04-30</th>\n",
       "      <td>424.09</td>\n",
       "      <td>0.589</td>\n",
       "      <td>370.5061</td>\n",
       "      <td>-0.25</td>\n",
       "      <td>-3.4</td>\n",
       "      <td>6.7</td>\n",
       "      <td>1.4</td>\n",
       "      <td>5.239103</td>\n",
       "      <td>0.024</td>\n",
       "      <td>(Decimal('0.1'), Decimal('0.1'), Decimal('0.5'...</td>\n",
       "    </tr>\n",
       "    <tr>\n",
       "      <th>2021-04-29</th>\n",
       "      <td>432.41</td>\n",
       "      <td>0.598</td>\n",
       "      <td>339.2529</td>\n",
       "      <td>-0.25</td>\n",
       "      <td>-3.4</td>\n",
       "      <td>6.7</td>\n",
       "      <td>1.4</td>\n",
       "      <td>5.213671</td>\n",
       "      <td>0.166</td>\n",
       "      <td>(Decimal('0.1'), Decimal('0.1'), Decimal('0.5'...</td>\n",
       "    </tr>\n",
       "    <tr>\n",
       "      <th>2021-04-28</th>\n",
       "      <td>337.10</td>\n",
       "      <td>0.592</td>\n",
       "      <td>322.5278</td>\n",
       "      <td>-0.25</td>\n",
       "      <td>-3.4</td>\n",
       "      <td>6.7</td>\n",
       "      <td>1.4</td>\n",
       "      <td>5.188239</td>\n",
       "      <td>0.252</td>\n",
       "      <td>(Decimal('0.3'), Decimal('0.1'), Decimal('0.5'...</td>\n",
       "    </tr>\n",
       "    <tr>\n",
       "      <th>...</th>\n",
       "      <td>...</td>\n",
       "      <td>...</td>\n",
       "      <td>...</td>\n",
       "      <td>...</td>\n",
       "      <td>...</td>\n",
       "      <td>...</td>\n",
       "      <td>...</td>\n",
       "      <td>...</td>\n",
       "      <td>...</td>\n",
       "      <td>...</td>\n",
       "    </tr>\n",
       "    <tr>\n",
       "      <th>2000-04-10</th>\n",
       "      <td>74.80</td>\n",
       "      <td>-0.668</td>\n",
       "      <td>301.2520</td>\n",
       "      <td>0.25</td>\n",
       "      <td>4.8</td>\n",
       "      <td>4.0</td>\n",
       "      <td>2.7</td>\n",
       "      <td>1.456774</td>\n",
       "      <td>5.100</td>\n",
       "      <td>(Decimal('0.1'), Decimal('0.3'), Decimal('0.5'...</td>\n",
       "    </tr>\n",
       "    <tr>\n",
       "      <th>2000-04-07</th>\n",
       "      <td>97.80</td>\n",
       "      <td>-0.617</td>\n",
       "      <td>305.7910</td>\n",
       "      <td>0.25</td>\n",
       "      <td>4.8</td>\n",
       "      <td>4.0</td>\n",
       "      <td>2.7</td>\n",
       "      <td>1.514516</td>\n",
       "      <td>4.690</td>\n",
       "      <td>(Decimal('0.1'), Decimal('0.3'), Decimal('0.5'...</td>\n",
       "    </tr>\n",
       "    <tr>\n",
       "      <th>2000-04-06</th>\n",
       "      <td>85.30</td>\n",
       "      <td>-0.729</td>\n",
       "      <td>321.6160</td>\n",
       "      <td>0.25</td>\n",
       "      <td>4.8</td>\n",
       "      <td>4.0</td>\n",
       "      <td>2.7</td>\n",
       "      <td>1.527097</td>\n",
       "      <td>4.710</td>\n",
       "      <td>(Decimal('0.1'), Decimal('0.3'), Decimal('0.5'...</td>\n",
       "    </tr>\n",
       "    <tr>\n",
       "      <th>2000-04-05</th>\n",
       "      <td>95.30</td>\n",
       "      <td>-0.612</td>\n",
       "      <td>269.6679</td>\n",
       "      <td>0.25</td>\n",
       "      <td>4.8</td>\n",
       "      <td>4.0</td>\n",
       "      <td>2.7</td>\n",
       "      <td>1.539677</td>\n",
       "      <td>4.800</td>\n",
       "      <td>(Decimal('0.1'), Decimal('0.3'), Decimal('0.5'...</td>\n",
       "    </tr>\n",
       "    <tr>\n",
       "      <th>2000-04-04</th>\n",
       "      <td>50.80</td>\n",
       "      <td>-0.629</td>\n",
       "      <td>320.7090</td>\n",
       "      <td>0.25</td>\n",
       "      <td>4.8</td>\n",
       "      <td>4.0</td>\n",
       "      <td>2.7</td>\n",
       "      <td>1.552258</td>\n",
       "      <td>5.110</td>\n",
       "      <td>(Decimal('0.1'), Decimal('0.3'), Decimal('0.5'...</td>\n",
       "    </tr>\n",
       "  </tbody>\n",
       "</table>\n",
       "<p>5297 rows × 10 columns</p>\n",
       "</div>"
      ],
      "text/plain": [
       "            S&P500  미국채10년      GSCI  기준금리  last_gdp  last_unem  last_infl  \\\n",
       "날짜                                                                           \n",
       "2021-05-04  418.80   0.520  342.7210 -0.25      -3.4        6.7        1.4   \n",
       "2021-05-03  466.93   0.555  354.8970 -0.25      -3.4        6.7        1.4   \n",
       "2021-04-30  424.09   0.589  370.5061 -0.25      -3.4        6.7        1.4   \n",
       "2021-04-29  432.41   0.598  339.2529 -0.25      -3.4        6.7        1.4   \n",
       "2021-04-28  337.10   0.592  322.5278 -0.25      -3.4        6.7        1.4   \n",
       "...            ...     ...       ...   ...       ...        ...        ...   \n",
       "2000-04-10   74.80  -0.668  301.2520  0.25       4.8        4.0        2.7   \n",
       "2000-04-07   97.80  -0.617  305.7910  0.25       4.8        4.0        2.7   \n",
       "2000-04-06   85.30  -0.729  321.6160  0.25       4.8        4.0        2.7   \n",
       "2000-04-05   95.30  -0.612  269.6679  0.25       4.8        4.0        2.7   \n",
       "2000-04-04   50.80  -0.629  320.7090  0.25       4.8        4.0        2.7   \n",
       "\n",
       "                 CPI  달러인덱스                                                 비율  \n",
       "날짜                                                                              \n",
       "2021-05-04  5.344929 -0.262  (Decimal('0.3'), Decimal('0.1'), Decimal('0.5'...  \n",
       "2021-05-03  5.190600  0.295  (Decimal('0.1'), Decimal('0.1'), Decimal('0.5'...  \n",
       "2021-04-30  5.239103  0.024  (Decimal('0.1'), Decimal('0.1'), Decimal('0.5'...  \n",
       "2021-04-29  5.213671  0.166  (Decimal('0.1'), Decimal('0.1'), Decimal('0.5'...  \n",
       "2021-04-28  5.188239  0.252  (Decimal('0.3'), Decimal('0.1'), Decimal('0.5'...  \n",
       "...              ...    ...                                                ...  \n",
       "2000-04-10  1.456774  5.100  (Decimal('0.1'), Decimal('0.3'), Decimal('0.5'...  \n",
       "2000-04-07  1.514516  4.690  (Decimal('0.1'), Decimal('0.3'), Decimal('0.5'...  \n",
       "2000-04-06  1.527097  4.710  (Decimal('0.1'), Decimal('0.3'), Decimal('0.5'...  \n",
       "2000-04-05  1.539677  4.800  (Decimal('0.1'), Decimal('0.3'), Decimal('0.5'...  \n",
       "2000-04-04  1.552258  5.110  (Decimal('0.1'), Decimal('0.3'), Decimal('0.5'...  \n",
       "\n",
       "[5297 rows x 10 columns]"
      ]
     },
     "execution_count": 8,
     "metadata": {},
     "output_type": "execute_result"
    }
   ],
   "source": [
    "df.drop('Unnamed: 0', axis=1)"
   ]
  },
  {
   "cell_type": "code",
   "execution_count": null,
   "id": "8a2452e6",
   "metadata": {},
   "outputs": [],
   "source": []
  },
  {
   "cell_type": "code",
   "execution_count": 13,
   "id": "6e96976e",
   "metadata": {},
   "outputs": [],
   "source": [
    "with open('data_files/model_hist.pickle', 'rb') as fr:\n",
    "    data =  pickle.load(fr)"
   ]
  },
  {
   "cell_type": "code",
   "execution_count": 22,
   "id": "bdc05bfd",
   "metadata": {},
   "outputs": [],
   "source": [
    "model = models.load_model('data_files/fn_model.h5')"
   ]
  },
  {
   "cell_type": "code",
   "execution_count": null,
   "id": "3e18853a",
   "metadata": {},
   "outputs": [],
   "source": [
    "model"
   ]
  },
  {
   "cell_type": "code",
   "execution_count": 18,
   "id": "1146996e",
   "metadata": {},
   "outputs": [
    {
     "data": {
      "text/plain": [
       "[<matplotlib.lines.Line2D at 0x1f06034eb20>]"
      ]
     },
     "execution_count": 18,
     "metadata": {},
     "output_type": "execute_result"
    },
    {
     "data": {
      "image/png": "[encoded data removed]",
      "text/plain": [
       "<Figure size 1080x360 with 1 Axes>"
      ]
     },
     "metadata": {
      "needs_background": "light"
     },
     "output_type": "display_data"
    }
   ],
   "source": [
    "plt.figure(figsize=(15, 5))\n",
    "plt.plot(data['loss'])\n",
    "plt.plot(data['val_loss'])"
   ]
  },
  {
   "cell_type": "code",
   "execution_count": 19,
   "id": "5e002510",
   "metadata": {},
   "outputs": [
    {
     "data": {
      "text/plain": [
       "[<matplotlib.lines.Line2D at 0x1f0603ba9d0>]"
      ]
     },
     "execution_count": 19,
     "metadata": {},
     "output_type": "execute_result"
    },
    {
     "data": {
      "image/png": "[encoded data removed]",
      "text/plain": [
       "<Figure size 1080x360 with 1 Axes>"
      ]
     },
     "metadata": {
      "needs_background": "light"
     },
     "output_type": "display_data"
    }
   ],
   "source": [
    "plt.figure(figsize=(15, 5))\n",
    "plt.plot(data['accuracy'])\n",
    "plt.plot(data['val_accuracy'])"
   ]
  },
  {
   "cell_type": "code",
   "execution_count": 5,
   "id": "be8d0d93",
   "metadata": {},
   "outputs": [],
   "source": [
    "df = pd.read_csv('data_files/sp_dol_fed 변화율.csv', index_col='date')"
   ]
  },
  {
   "cell_type": "code",
   "execution_count": 6,
   "id": "53cce199",
   "metadata": {},
   "outputs": [
    {
     "data": {
      "text/html": [
       "<div>\n",
       "<style scoped>\n",
       "    .dataframe tbody tr th:only-of-type {\n",
       "        vertical-align: middle;\n",
       "    }\n",
       "\n",
       "    .dataframe tbody tr th {\n",
       "        vertical-align: top;\n",
       "    }\n",
       "\n",
       "    .dataframe thead th {\n",
       "        text-align: right;\n",
       "    }\n",
       "</style>\n",
       "<table border=\"1\" class=\"dataframe\">\n",
       "  <thead>\n",
       "    <tr style=\"text-align: right;\">\n",
       "      <th></th>\n",
       "      <th>doller</th>\n",
       "      <th>fed</th>\n",
       "      <th>sp_data</th>\n",
       "      <th>sp_updown</th>\n",
       "    </tr>\n",
       "    <tr>\n",
       "      <th>date</th>\n",
       "      <th></th>\n",
       "      <th></th>\n",
       "      <th></th>\n",
       "      <th></th>\n",
       "    </tr>\n",
       "  </thead>\n",
       "  <tbody>\n",
       "    <tr>\n",
       "      <th>1971-01-06</th>\n",
       "      <td>-0.008299</td>\n",
       "      <td>-1.75</td>\n",
       "      <td>92.35</td>\n",
       "      <td>1</td>\n",
       "    </tr>\n",
       "    <tr>\n",
       "      <th>1971-01-07</th>\n",
       "      <td>-0.024898</td>\n",
       "      <td>0.75</td>\n",
       "      <td>92.38</td>\n",
       "      <td>1</td>\n",
       "    </tr>\n",
       "    <tr>\n",
       "      <th>1971-01-08</th>\n",
       "      <td>0.049776</td>\n",
       "      <td>0.75</td>\n",
       "      <td>92.19</td>\n",
       "      <td>0</td>\n",
       "    </tr>\n",
       "    <tr>\n",
       "      <th>1971-01-11</th>\n",
       "      <td>-0.016597</td>\n",
       "      <td>-0.12</td>\n",
       "      <td>91.98</td>\n",
       "      <td>0</td>\n",
       "    </tr>\n",
       "    <tr>\n",
       "      <th>1971-01-12</th>\n",
       "      <td>0.000000</td>\n",
       "      <td>-0.13</td>\n",
       "      <td>92.72</td>\n",
       "      <td>1</td>\n",
       "    </tr>\n",
       "    <tr>\n",
       "      <th>...</th>\n",
       "      <td>...</td>\n",
       "      <td>...</td>\n",
       "      <td>...</td>\n",
       "      <td>...</td>\n",
       "    </tr>\n",
       "    <tr>\n",
       "      <th>2022-05-04</th>\n",
       "      <td>-0.260942</td>\n",
       "      <td>0.25</td>\n",
       "      <td>4300.17</td>\n",
       "      <td>1</td>\n",
       "    </tr>\n",
       "    <tr>\n",
       "      <th>2022-05-05</th>\n",
       "      <td>-0.857788</td>\n",
       "      <td>0.50</td>\n",
       "      <td>4146.87</td>\n",
       "      <td>0</td>\n",
       "    </tr>\n",
       "    <tr>\n",
       "      <th>2022-05-06</th>\n",
       "      <td>1.118076</td>\n",
       "      <td>0.50</td>\n",
       "      <td>4123.34</td>\n",
       "      <td>0</td>\n",
       "    </tr>\n",
       "    <tr>\n",
       "      <th>2022-05-09</th>\n",
       "      <td>-0.086818</td>\n",
       "      <td>0.50</td>\n",
       "      <td>3991.24</td>\n",
       "      <td>0</td>\n",
       "    </tr>\n",
       "    <tr>\n",
       "      <th>2022-05-10</th>\n",
       "      <td>-0.009650</td>\n",
       "      <td>0.50</td>\n",
       "      <td>4001.05</td>\n",
       "      <td>1</td>\n",
       "    </tr>\n",
       "  </tbody>\n",
       "</table>\n",
       "<p>12880 rows × 4 columns</p>\n",
       "</div>"
      ],
      "text/plain": [
       "              doller   fed  sp_data  sp_updown\n",
       "date                                          \n",
       "1971-01-06 -0.008299 -1.75    92.35          1\n",
       "1971-01-07 -0.024898  0.75    92.38          1\n",
       "1971-01-08  0.049776  0.75    92.19          0\n",
       "1971-01-11 -0.016597 -0.12    91.98          0\n",
       "1971-01-12  0.000000 -0.13    92.72          1\n",
       "...              ...   ...      ...        ...\n",
       "2022-05-04 -0.260942  0.25  4300.17          1\n",
       "2022-05-05 -0.857788  0.50  4146.87          0\n",
       "2022-05-06  1.118076  0.50  4123.34          0\n",
       "2022-05-09 -0.086818  0.50  3991.24          0\n",
       "2022-05-10 -0.009650  0.50  4001.05          1\n",
       "\n",
       "[12880 rows x 4 columns]"
      ]
     },
     "execution_count": 6,
     "metadata": {},
     "output_type": "execute_result"
    }
   ],
   "source": [
    "df"
   ]
  },
  {
   "cell_type": "code",
   "execution_count": 8,
   "id": "2121a6c8",
   "metadata": {},
   "outputs": [],
   "source": [
    "model = models.load_model('model/dol_fed=sq.h5')"
   ]
  },
  {
   "cell_type": "code",
   "execution_count": 9,
   "id": "c2f1b3cd",
   "metadata": {},
   "outputs": [
    {
     "data": {
      "text/plain": [
       "<keras.engine.sequential.Sequential at 0x1c98ca571f0>"
      ]
     },
     "execution_count": 9,
     "metadata": {},
     "output_type": "execute_result"
    }
   ],
   "source": [
    "model"
   ]
  },
  {
   "cell_type": "code",
   "execution_count": 13,
   "id": "69973581",
   "metadata": {},
   "outputs": [],
   "source": [
    "with open('model/dol_fed=sq.pickle', 'rb') as fr:\n",
    "    hist = pickle.load(fr)"
   ]
  },
  {
   "cell_type": "code",
   "execution_count": 16,
   "id": "25760e34",
   "metadata": {
    "scrolled": true
   },
   "outputs": [
    {
     "data": {
      "text/plain": [
       "[<matplotlib.lines.Line2D at 0x1c9a60b2520>]"
      ]
     },
     "execution_count": 16,
     "metadata": {},
     "output_type": "execute_result"
    },
    {
     "data": {
      "image/png": "[encoded data removed]",
      "text/plain": [
       "<Figure size 1080x360 with 1 Axes>"
      ]
     },
     "metadata": {
      "needs_background": "light"
     },
     "output_type": "display_data"
    }
   ],
   "source": [
    "plt.figure(figsize=(15,5))\n",
    "plt.plot(hist['loss'])\n",
    "plt.plot(hist['val_loss'])"
   ]
  },
  {
   "cell_type": "code",
   "execution_count": 17,
   "id": "2d256978",
   "metadata": {},
   "outputs": [
    {
     "data": {
      "text/plain": [
       "[<matplotlib.lines.Line2D at 0x1c99514f910>]"
      ]
     },
     "execution_count": 17,
     "metadata": {},
     "output_type": "execute_result"
    },
    {
     "data": {
      "image/png": "[encoded data removed]",
      "text/plain": [
       "<Figure size 1080x360 with 1 Axes>"
      ]
     },
     "metadata": {
      "needs_background": "light"
     },
     "output_type": "display_data"
    }
   ],
   "source": [
    "plt.figure(figsize=(15,5))\n",
    "plt.plot(hist['accuracy'])\n",
    "plt.plot(hist['val_accuracy'])"
   ]
  },
  {
   "cell_type": "code",
   "execution_count": null,
   "id": "8f52f601",
   "metadata": {},
   "outputs": [],
   "source": []
  },
  {
   "cell_type": "code",
   "execution_count": null,
   "id": "a21e7e3a",
   "metadata": {},
   "outputs": [],
   "source": []
  }
 ],
 "metadata": {
  "kernelspec": {
   "display_name": "Python 3 (ipykernel)",
   "language": "python",
   "name": "python3"
  },
  "language_info": {
   "codemirror_mode": {
    "name": "ipython",
    "version": 3
   },
   "file_extension": ".py",
   "mimetype": "text/x-python",
   "name": "python",
   "nbconvert_exporter": "python",
   "pygments_lexer": "ipython3",
   "version": "3.9.7"
  }
 },
 "nbformat": 4,
 "nbformat_minor": 5
}
